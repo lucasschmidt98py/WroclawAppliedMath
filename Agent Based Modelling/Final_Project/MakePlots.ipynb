{
 "cells": [
  {
   "cell_type": "code",
   "execution_count": 1,
   "metadata": {},
   "outputs": [
    {
     "data": {
      "text/plain": [
       "makefig_association (generic function with 3 methods)"
      ]
     },
     "metadata": {},
     "output_type": "display_data"
    }
   ],
   "source": [
    "include(\"ReactionDiffusion.jl\")"
   ]
  },
  {
   "cell_type": "code",
   "execution_count": 2,
   "metadata": {},
   "outputs": [],
   "source": [
    "nt = 400\n",
    "L = 201\n",
    "p = .5\n",
    "\n",
    "IC1 = zeros(Int,L, L)\n",
    "IC1[L÷2+1 , L÷2+1] = 1 \n",
    "IC2 = rand( [0,1] , L , L );"
   ]
  },
  {
   "cell_type": "code",
   "execution_count": 3,
   "metadata": {},
   "outputs": [],
   "source": [
    "for θ2 = 1:2 , θ1 = 1:θ2\n",
    "    makefig_precipitating(nt,L,θ1,θ2,IC1,p,true)\n",
    "end"
   ]
  },
  {
   "cell_type": "code",
   "execution_count": 4,
   "metadata": {},
   "outputs": [],
   "source": [
    "for θ2 = 1:9 , θ1 = 1:θ2\n",
    "    makefig_precipitating(nt,L,θ1,θ2,IC2,p,false)\n",
    "end"
   ]
  },
  {
   "cell_type": "code",
   "execution_count": 6,
   "metadata": {},
   "outputs": [],
   "source": [
    "for θ2 in 1:3 , θ1 in 1:1 , δ2 in 1:9 , δ1 in 1:δ2\n",
    "    makefig_association(nt, L, [θ1, θ2], [δ1, δ2], IC1, p, true)\n",
    "end"
   ]
  },
  {
   "cell_type": "code",
   "execution_count": 5,
   "metadata": {},
   "outputs": [],
   "source": [
    "for θ2 in 1:9 , θ1 in 1:θ2 , δ2 in 1:9 , δ1 in 1:δ2\n",
    "    makefig_association(nt, L, [θ1, θ2], [δ1, δ2], IC2, p, false)\n",
    "end"
   ]
  }
 ],
 "metadata": {
  "kernelspec": {
   "display_name": "Julia 1.11.2",
   "language": "julia",
   "name": "julia-1.11"
  },
  "language_info": {
   "file_extension": ".jl",
   "mimetype": "application/julia",
   "name": "julia",
   "version": "1.11.2"
  }
 },
 "nbformat": 4,
 "nbformat_minor": 2
}
