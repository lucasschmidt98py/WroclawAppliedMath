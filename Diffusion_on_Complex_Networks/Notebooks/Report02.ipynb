{
 "cells": [
  {
   "cell_type": "markdown",
   "metadata": {},
   "source": [
    "# Lucas Schmidt Ferreira de Araujo\n",
    "\n",
    "# Report 02\n",
    "# Exercice I"
   ]
  },
  {
   "cell_type": "code",
   "execution_count": 1,
   "metadata": {},
   "outputs": [
    {
     "data": {
      "text/plain": [
       "getShortestPathsLengths (generic function with 1 method)"
      ]
     },
     "metadata": {},
     "output_type": "display_data"
    }
   ],
   "source": [
    "mutable struct Graph\n",
    "    vertices::Dict{Any, Vector{Any}}\n",
    "end\n",
    "\n",
    "function Graph()\n",
    "    return Graph(Dict{Any, Vector{Any}}())\n",
    "end\n",
    "\n",
    "function addVertix!(graph::Graph , element::Any)\n",
    "    graph.vertices[element] = [] \n",
    "end\n",
    "\n",
    "function addVerticesFromList!(graph::Graph, arr::Array{T}) where T\n",
    "    for q in arr\n",
    "        addVertix!(graph, q)\n",
    "    end\n",
    "end\n",
    "\n",
    "function addEdge!(graph::Graph, from::T, to::T) where T\n",
    "    if !haskey(graph.vertices, from) || !haskey(graph.vertices, to)\n",
    "        error(\"Both vertices must exist in the graph.\")\n",
    "    else\n",
    "        push!(graph.vertices[from], to)\n",
    "        push!(graph.vertices[to], from)\n",
    "    end\n",
    "end\n",
    "\n",
    "function addEdgesFromList!(graph::Graph, arr::Vector{Vector{T}}) where T\n",
    "    for q in arr\n",
    "        addEdge!(graph,q[1],q[2])\n",
    "    end\n",
    "end\n",
    "\n",
    "function getVertices(graph::Graph)\n",
    "    return collect(keys(graph.vertices))\n",
    "end\n",
    "\n",
    "function getEdges(graph::Graph)\n",
    "    edges = []\n",
    "    for q in keys(graph.vertices)\n",
    "        for j in graph.vertices[q]\n",
    "            if !([j,q] in edges)\n",
    "                push!(edges,[q,j])\n",
    "            end\n",
    "        end\n",
    "    end\n",
    "    return edges\n",
    "end\n",
    "\n",
    "function getNeighbors(graph::Graph , element::T) where T\n",
    "    return graph.vertices[element]\n",
    "end\n",
    "\n",
    "function isin(graph::Graph , element::T) where T\n",
    "    return haskey(graph.vertices,element)\n",
    "end\n",
    "\n",
    "function saveGraph(graph::Graph, filename::String)\n",
    "    file = open(filename, \"w\")\n",
    "    println(file, \"graph {\")\n",
    "    edges = getEdges(graph)\n",
    "    \n",
    "    for q in edges\n",
    "        println(file,\"$(q[1]) -- $(q[2]);\")\n",
    "    end\n",
    "\n",
    "    println(file, \"}\")\n",
    "    close(file)\n",
    "end\n",
    "\n",
    "function f!(graph::Graph, element::T,paths::Dict,searched) where T\n",
    "    nb = getNeighbors(G,element)\n",
    "    for q in nb\n",
    "        if paths[q] == 0\n",
    "            paths[q] = paths[element] + 1 \n",
    "        end\n",
    "    end\n",
    "    return filter(x -> !(x in searched),nb)\n",
    "end\n",
    "\n",
    "function getShortestPathsLengths(graph::Graph, element::T) where T\n",
    "    vertices = getVertices(G)\n",
    "    paths = Dict(zip(vertices,zeros(length(vertices))))\n",
    "    searched = [element]\n",
    "    j = 1\n",
    "    nb = getNeighbors(G,searched[j])\n",
    "    while(length(searched) != length(vertices) && j <= length(searched))\n",
    "        nb = f!(G,searched[j],paths,searched)\n",
    "        searched = vcat(searched,nb)\n",
    "        j+=1\n",
    "    end\n",
    "    return delete!(paths,element)\n",
    "end\n"
   ]
  },
  {
   "cell_type": "markdown",
   "metadata": {},
   "source": [
    "* Alice - 1,  Bob - 2 , Gail - 3 , Irene - 4 , Carl - 5\n",
    "* Harry - 6 , Jen - 7 , David - 8 , Ernest - 9 , Frank - 10"
   ]
  },
  {
   "cell_type": "code",
   "execution_count": 2,
   "metadata": {},
   "outputs": [],
   "source": [
    "G = Graph()\n",
    "addVertix!(G,1)\n",
    "addVerticesFromList!(G,[2,3,4,5,6,7,8,9,10])\n",
    "addEdge!(G,1,2)\n",
    "addEdge!(G,2,3)\n",
    "addEdge!(G,4,3)\n",
    "addEdge!(G,5,1)\n",
    "addEdge!(G,3,6)\n",
    "addEdge!(G,4,7)\n",
    "addEdge!(G,1,8)\n",
    "addEdge!(G,6,7)\n",
    "addEdge!(G,9,10)\n",
    "addEdge!(G,1,9)\n",
    "addEdge!(G,7,3)\n",
    "addEdge!(G,8,5)\n",
    "addEdge!(G,1,10)\n",
    "addEdge!(G,6,4)\n",
    "addEdge!(G,5,10)\n",
    "\n",
    "saveGraph(G,\"teste.dot\")"
   ]
  },
  {
   "cell_type": "markdown",
   "metadata": {},
   "source": [
    "The graphviz software can be installed as described in the [website](https://graphviz.org/download/). Running the command $dot test.dot -Tpng -o teste.png, we have the visualization\n",
    "\n",
    "![](teste.png)"
   ]
  },
  {
   "cell_type": "code",
   "execution_count": 3,
   "metadata": {},
   "outputs": [
    {
     "data": {
      "text/plain": [
       "true"
      ]
     },
     "metadata": {},
     "output_type": "display_data"
    }
   ],
   "source": [
    "isin(G,2)"
   ]
  },
  {
   "cell_type": "code",
   "execution_count": 4,
   "metadata": {},
   "outputs": [
    {
     "data": {
      "text/plain": [
       "false"
      ]
     },
     "metadata": {},
     "output_type": "display_data"
    }
   ],
   "source": [
    "isin(G,20)"
   ]
  },
  {
   "cell_type": "code",
   "execution_count": 5,
   "metadata": {},
   "outputs": [
    {
     "data": {
      "text/plain": [
       "10-element Vector{Any}:\n",
       "  5\n",
       "  4\n",
       "  6\n",
       "  7\n",
       "  2\n",
       " 10\n",
       "  9\n",
       "  8\n",
       "  3\n",
       "  1"
      ]
     },
     "metadata": {},
     "output_type": "display_data"
    }
   ],
   "source": [
    "getVertices(G)"
   ]
  },
  {
   "cell_type": "code",
   "execution_count": 6,
   "metadata": {},
   "outputs": [
    {
     "data": {
      "text/plain": [
       "2-element Vector{Any}:\n",
       " 1\n",
       " 3"
      ]
     },
     "metadata": {},
     "output_type": "display_data"
    }
   ],
   "source": [
    "getNeighbors(G,2)"
   ]
  },
  {
   "cell_type": "code",
   "execution_count": 7,
   "metadata": {},
   "outputs": [
    {
     "data": {
      "text/plain": [
       "15-element Vector{Any}:\n",
       " [5, 1]\n",
       " [5, 8]\n",
       " [5, 10]\n",
       " [4, 3]\n",
       " [4, 7]\n",
       " [4, 6]\n",
       " [6, 3]\n",
       " [6, 7]\n",
       " [7, 3]\n",
       " [2, 1]\n",
       " [2, 3]\n",
       " [10, 9]\n",
       " [10, 1]\n",
       " [9, 1]\n",
       " [8, 1]"
      ]
     },
     "metadata": {},
     "output_type": "display_data"
    }
   ],
   "source": [
    "getEdges(G)"
   ]
  },
  {
   "cell_type": "code",
   "execution_count": 8,
   "metadata": {},
   "outputs": [
    {
     "data": {
      "text/plain": [
       "Dict{Any, Float64} with 9 entries:\n",
       "  5  => 4.0\n",
       "  4  => 1.0\n",
       "  6  => 1.0\n",
       "  2  => 2.0\n",
       "  10 => 4.0\n",
       "  9  => 4.0\n",
       "  8  => 4.0\n",
       "  3  => 1.0\n",
       "  1  => 3.0"
      ]
     },
     "metadata": {},
     "output_type": "display_data"
    }
   ],
   "source": [
    "getShortestPathsLengths(G,7)"
   ]
  },
  {
   "cell_type": "code",
   "execution_count": 9,
   "metadata": {},
   "outputs": [
    {
     "data": {
      "text/plain": [
       "Dict{Any, Float64} with 9 entries:\n",
       "  5  => 1.0\n",
       "  4  => 3.0\n",
       "  6  => 3.0\n",
       "  7  => 3.0\n",
       "  2  => 1.0\n",
       "  10 => 1.0\n",
       "  9  => 1.0\n",
       "  8  => 1.0\n",
       "  3  => 2.0"
      ]
     },
     "metadata": {},
     "output_type": "display_data"
    }
   ],
   "source": [
    "getShortestPathsLengths(G,1)"
   ]
  },
  {
   "cell_type": "code",
   "execution_count": 10,
   "metadata": {},
   "outputs": [
    {
     "data": {
      "text/plain": [
       "Dict{Any, Float64} with 9 entries:\n",
       "  5  => 1.0\n",
       "  4  => 4.0\n",
       "  6  => 4.0\n",
       "  7  => 4.0\n",
       "  2  => 2.0\n",
       "  10 => 2.0\n",
       "  9  => 2.0\n",
       "  3  => 3.0\n",
       "  1  => 1.0"
      ]
     },
     "metadata": {},
     "output_type": "display_data"
    }
   ],
   "source": [
    "getShortestPathsLengths(G,8)"
   ]
  }
 ],
 "metadata": {
  "kernelspec": {
   "display_name": "Julia 1.10.2",
   "language": "julia",
   "name": "julia-1.10"
  },
  "language_info": {
   "file_extension": ".jl",
   "mimetype": "application/julia",
   "name": "julia",
   "version": "1.10.2"
  }
 },
 "nbformat": 4,
 "nbformat_minor": 2
}
